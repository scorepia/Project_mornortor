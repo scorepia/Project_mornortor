{
  "nbformat": 4,
  "nbformat_minor": 0,
  "metadata": {
    "colab": {
      "provenance": []
    },
    "kernelspec": {
      "name": "python3",
      "display_name": "Python 3"
    },
    "language_info": {
      "name": "python"
    },
    "accelerator": "GPU",
    "gpuClass": "standard"
  },
  "cells": [
    {
      "cell_type": "markdown",
      "source": [
        "Based on https://github.com/Grzego/handwriting-generation"
      ],
      "metadata": {
        "id": "U_QdW77fhyZi"
      }
    },
    {
      "cell_type": "markdown",
      "source": [
        "# Generating"
      ],
      "metadata": {
        "id": "bHBdCqpxiP5A"
      }
    },
    {
      "cell_type": "code",
      "source": [
        "!python generate.py --help"
      ],
      "metadata": {
        "id": "iF4oTxZErVb4",
        "colab": {
          "base_uri": "https://localhost:8080/"
        },
        "outputId": "d9e8685e-6c24-4793-8ab0-2e2fade24397"
      },
      "execution_count": null,
      "outputs": [
        {
          "output_type": "stream",
          "name": "stdout",
          "text": [
            "usage: generate.py\n",
            "       [-h]\n",
            "       [--model MODEL_PATH]\n",
            "       [--text TEXT]\n",
            "       [--style STYLE]\n",
            "       [--bias BIAS]\n",
            "       [--force]\n",
            "       [--animation]\n",
            "       [--noinfo]\n",
            "       [--save SAVE]\n",
            "\n",
            "optional arguments:\n",
            "  -h, --help\n",
            "    show this\n",
            "    help\n",
            "    message and\n",
            "    exit\n",
            "  --model MODEL_PATH\n",
            "  --text TEXT\n",
            "  --style STYLE\n",
            "  --bias BIAS\n",
            "  --force\n",
            "  --animation\n",
            "  --noinfo\n",
            "  --save SAVE\n"
          ]
        }
      ]
    },
    {
      "cell_type": "code",
      "source": [
        "!python generate.py --text \"George\" --style 2 --save \"examples/George.png\""
      ],
      "metadata": {
        "colab": {
          "base_uri": "https://localhost:8080/"
        },
        "id": "70KIkZmDRf4C",
        "outputId": "accf1d64-5303-4bfd-e8a7-33e228305503"
      },
      "execution_count": null,
      "outputs": [
        {
          "output_type": "stream",
          "name": "stdout",
          "text": [
            "[ 1979] sampling... synthesis\n",
            "Finished sampling!\n",
            "\n",
            "Figure(640x480)\n"
          ]
        }
      ]
    },
    {
      "cell_type": "markdown",
      "source": [
        "# Displaying"
      ],
      "metadata": {
        "id": "7cdi7gIqiScF"
      }
    },
    {
      "cell_type": "code",
      "source": [
        "%cd ./examples\n",
        "!dir"
      ],
      "metadata": {
        "colab": {
          "base_uri": "https://localhost:8080/"
        },
        "id": "8iOsnYuuegvw",
        "outputId": "d8abfb58-bc2a-464d-97bb-ad50c05b22ce"
      },
      "execution_count": null,
      "outputs": [
        {
          "output_type": "stream",
          "name": "stdout",
          "text": [
            "/content/drive/.shortcut-targets-by-id/1_QkUCbop7NdeifAEADwA_Y37zsP19ul3/GH3_Signature_RNN/examples\n",
            "George-style-2-bias-1.0.png\n"
          ]
        }
      ]
    },
    {
      "cell_type": "code",
      "source": [
        "from matplotlib import pyplot as plt\n",
        "from matplotlib import image as mpimg"
      ],
      "metadata": {
        "id": "eo0AnXbve14F"
      },
      "execution_count": null,
      "outputs": []
    },
    {
      "cell_type": "code",
      "source": [
        "image = mpimg.imread(\"George-style-2-bias-1.0.png\")\n",
        "plt.imshow(image)\n",
        "plt.axis('off')\n",
        "plt.show()"
      ],
      "metadata": {
        "colab": {
          "base_uri": "https://localhost:8080/",
          "height": 248
        },
        "id": "QJT5ENaBe4jz",
        "outputId": "1e88ee23-bd53-413a-bfee-3f6b4fa129a4"
      },
      "execution_count": null,
      "outputs": [
        {
          "output_type": "display_data",
          "data": {
            "text/plain": [
              "<Figure size 432x288 with 1 Axes>"
            ],
            "image/png": "[encoded data removed]"
          },
          "metadata": {
            "needs_background": "light"
          }
        }
      ]
    }
  ]
}